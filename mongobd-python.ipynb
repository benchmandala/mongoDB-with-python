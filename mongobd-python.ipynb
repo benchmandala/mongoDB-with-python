{
 "cells": [
  {
   "cell_type": "code",
   "execution_count": 1,
   "metadata": {},
   "outputs": [],
   "source": [
    "from pymongo import MongoClient"
   ]
  },
  {
   "cell_type": "code",
   "execution_count": 2,
   "metadata": {},
   "outputs": [],
   "source": [
    "import pandas as pd\n",
    "import time"
   ]
  },
  {
   "cell_type": "code",
   "execution_count": 3,
   "metadata": {},
   "outputs": [],
   "source": [
    "import numpy as np"
   ]
  },
  {
   "cell_type": "code",
   "execution_count": 4,
   "metadata": {},
   "outputs": [],
   "source": [
    "data = pd.read_csv(\"0000000000002747_training_twitter_x_y_train.csv\")"
   ]
  },
  {
   "cell_type": "code",
   "execution_count": 5,
   "metadata": {},
   "outputs": [
    {
     "name": "stdout",
     "output_type": "stream",
     "text": [
      "0.0010426044464111328\n"
     ]
    }
   ],
   "source": [
    "start = time.time()\n",
    "x = data[0:30]\n",
    "end = time.time()\n",
    "print(end-start)"
   ]
  },
  {
   "cell_type": "code",
   "execution_count": 6,
   "metadata": {},
   "outputs": [
    {
     "data": {
      "text/html": [
       "<div>\n",
       "<style scoped>\n",
       "    .dataframe tbody tr th:only-of-type {\n",
       "        vertical-align: middle;\n",
       "    }\n",
       "\n",
       "    .dataframe tbody tr th {\n",
       "        vertical-align: top;\n",
       "    }\n",
       "\n",
       "    .dataframe thead th {\n",
       "        text-align: right;\n",
       "    }\n",
       "</style>\n",
       "<table border=\"1\" class=\"dataframe\">\n",
       "  <thead>\n",
       "    <tr style=\"text-align: right;\">\n",
       "      <th></th>\n",
       "      <th>tweet_id</th>\n",
       "      <th>airline_sentiment</th>\n",
       "      <th>airline</th>\n",
       "      <th>airline_sentiment_gold</th>\n",
       "      <th>name</th>\n",
       "      <th>negativereason_gold</th>\n",
       "      <th>retweet_count</th>\n",
       "      <th>text</th>\n",
       "      <th>tweet_coord</th>\n",
       "      <th>tweet_created</th>\n",
       "      <th>tweet_location</th>\n",
       "      <th>user_timezone</th>\n",
       "    </tr>\n",
       "  </thead>\n",
       "  <tbody>\n",
       "    <tr>\n",
       "      <td>0</td>\n",
       "      <td>567900433542488064</td>\n",
       "      <td>negative</td>\n",
       "      <td>Southwest</td>\n",
       "      <td>NaN</td>\n",
       "      <td>ColeyGirouard</td>\n",
       "      <td>NaN</td>\n",
       "      <td>0</td>\n",
       "      <td>@SouthwestAir I am scheduled for the morning, ...</td>\n",
       "      <td>NaN</td>\n",
       "      <td>2015-02-17 20:16:29 -0800</td>\n",
       "      <td>Washington D.C.</td>\n",
       "      <td>Atlantic Time (Canada)</td>\n",
       "    </tr>\n",
       "    <tr>\n",
       "      <td>1</td>\n",
       "      <td>569989168903819264</td>\n",
       "      <td>positive</td>\n",
       "      <td>Southwest</td>\n",
       "      <td>NaN</td>\n",
       "      <td>WalterFaddoul</td>\n",
       "      <td>NaN</td>\n",
       "      <td>0</td>\n",
       "      <td>@SouthwestAir seeing your workers time in and ...</td>\n",
       "      <td>NaN</td>\n",
       "      <td>2015-02-23 14:36:22 -0800</td>\n",
       "      <td>Indianapolis, Indiana; USA</td>\n",
       "      <td>Central Time (US &amp; Canada)</td>\n",
       "    </tr>\n",
       "    <tr>\n",
       "      <td>2</td>\n",
       "      <td>568089179520954368</td>\n",
       "      <td>positive</td>\n",
       "      <td>United</td>\n",
       "      <td>NaN</td>\n",
       "      <td>LocalKyle</td>\n",
       "      <td>NaN</td>\n",
       "      <td>0</td>\n",
       "      <td>@united Flew ORD to Miami and back and  had gr...</td>\n",
       "      <td>NaN</td>\n",
       "      <td>2015-02-18 08:46:29 -0800</td>\n",
       "      <td>Illinois</td>\n",
       "      <td>Central Time (US &amp; Canada)</td>\n",
       "    </tr>\n",
       "    <tr>\n",
       "      <td>3</td>\n",
       "      <td>568928195581513728</td>\n",
       "      <td>negative</td>\n",
       "      <td>Southwest</td>\n",
       "      <td>NaN</td>\n",
       "      <td>amccarthy19</td>\n",
       "      <td>NaN</td>\n",
       "      <td>0</td>\n",
       "      <td>@SouthwestAir @dultch97 that's horse radish 😤🐴</td>\n",
       "      <td>NaN</td>\n",
       "      <td>2015-02-20 16:20:26 -0800</td>\n",
       "      <td>NaN</td>\n",
       "      <td>Atlantic Time (Canada)</td>\n",
       "    </tr>\n",
       "    <tr>\n",
       "      <td>4</td>\n",
       "      <td>568594180014014464</td>\n",
       "      <td>negative</td>\n",
       "      <td>United</td>\n",
       "      <td>NaN</td>\n",
       "      <td>J_Okayy</td>\n",
       "      <td>NaN</td>\n",
       "      <td>0</td>\n",
       "      <td>@united so our flight into ORD was delayed bec...</td>\n",
       "      <td>NaN</td>\n",
       "      <td>2015-02-19 18:13:11 -0800</td>\n",
       "      <td>NaN</td>\n",
       "      <td>Eastern Time (US &amp; Canada)</td>\n",
       "    </tr>\n",
       "  </tbody>\n",
       "</table>\n",
       "</div>"
      ],
      "text/plain": [
       "             tweet_id airline_sentiment    airline airline_sentiment_gold  \\\n",
       "0  567900433542488064          negative  Southwest                    NaN   \n",
       "1  569989168903819264          positive  Southwest                    NaN   \n",
       "2  568089179520954368          positive     United                    NaN   \n",
       "3  568928195581513728          negative  Southwest                    NaN   \n",
       "4  568594180014014464          negative     United                    NaN   \n",
       "\n",
       "            name negativereason_gold  retweet_count  \\\n",
       "0  ColeyGirouard                 NaN              0   \n",
       "1  WalterFaddoul                 NaN              0   \n",
       "2      LocalKyle                 NaN              0   \n",
       "3    amccarthy19                 NaN              0   \n",
       "4        J_Okayy                 NaN              0   \n",
       "\n",
       "                                                text tweet_coord  \\\n",
       "0  @SouthwestAir I am scheduled for the morning, ...         NaN   \n",
       "1  @SouthwestAir seeing your workers time in and ...         NaN   \n",
       "2  @united Flew ORD to Miami and back and  had gr...         NaN   \n",
       "3     @SouthwestAir @dultch97 that's horse radish 😤🐴         NaN   \n",
       "4  @united so our flight into ORD was delayed bec...         NaN   \n",
       "\n",
       "               tweet_created              tweet_location  \\\n",
       "0  2015-02-17 20:16:29 -0800             Washington D.C.   \n",
       "1  2015-02-23 14:36:22 -0800  Indianapolis, Indiana; USA   \n",
       "2  2015-02-18 08:46:29 -0800                    Illinois   \n",
       "3  2015-02-20 16:20:26 -0800                         NaN   \n",
       "4  2015-02-19 18:13:11 -0800                         NaN   \n",
       "\n",
       "                user_timezone  \n",
       "0      Atlantic Time (Canada)  \n",
       "1  Central Time (US & Canada)  \n",
       "2  Central Time (US & Canada)  \n",
       "3      Atlantic Time (Canada)  \n",
       "4  Eastern Time (US & Canada)  "
      ]
     },
     "execution_count": 6,
     "metadata": {},
     "output_type": "execute_result"
    }
   ],
   "source": [
    "x.head()"
   ]
  },
  {
   "cell_type": "code",
   "execution_count": 7,
   "metadata": {},
   "outputs": [
    {
     "data": {
      "text/plain": [
       "tweet_id                   0\n",
       "airline_sentiment          0\n",
       "airline                    0\n",
       "airline_sentiment_gold    30\n",
       "name                       0\n",
       "negativereason_gold       30\n",
       "retweet_count              0\n",
       "text                       0\n",
       "tweet_coord               28\n",
       "tweet_created              0\n",
       "tweet_location            12\n",
       "user_timezone              8\n",
       "dtype: int64"
      ]
     },
     "execution_count": 7,
     "metadata": {},
     "output_type": "execute_result"
    }
   ],
   "source": [
    "x.isnull().sum()"
   ]
  },
  {
   "cell_type": "code",
   "execution_count": 9,
   "metadata": {},
   "outputs": [],
   "source": [
    "x_new = x.fillna(0)"
   ]
  },
  {
   "cell_type": "code",
   "execution_count": 10,
   "metadata": {},
   "outputs": [
    {
     "name": "stdout",
     "output_type": "stream",
     "text": [
      "MongoClient(host=['localhost:27017'], document_class=dict, tz_aware=False, connect=True)\n"
     ]
    }
   ],
   "source": [
    "client = MongoClient()\n",
    "print(client)"
   ]
  },
  {
   "cell_type": "code",
   "execution_count": 11,
   "metadata": {},
   "outputs": [],
   "source": [
    "db = client.NewFile"
   ]
  },
  {
   "cell_type": "code",
   "execution_count": 12,
   "metadata": {},
   "outputs": [],
   "source": [
    "Twitter = db.NewFile"
   ]
  },
  {
   "cell_type": "code",
   "execution_count": 13,
   "metadata": {},
   "outputs": [
    {
     "data": {
      "text/plain": [
       "[{'tweet_id': 567900433542488064,\n",
       "  'airline_sentiment': 'negative',\n",
       "  'airline': 'Southwest',\n",
       "  'name': 'ColeyGirouard',\n",
       "  'text': '@SouthwestAir I am scheduled for the morning, 2 days after the fact, yes..not sure why my evening flight was the only one Cancelled Flightled',\n",
       "  'tweet_created': '2015-02-17 20:16:29 -0800',\n",
       "  'tweet_location': 'Washington D.C.',\n",
       "  'user_timezone': 'Atlantic Time (Canada)'},\n",
       " {'tweet_id': 569989168903819264,\n",
       "  'airline_sentiment': 'positive',\n",
       "  'airline': 'Southwest',\n",
       "  'name': 'WalterFaddoul',\n",
       "  'text': '@SouthwestAir seeing your workers time in and time out going above and beyond is why I love flying with you guys. Thank you!',\n",
       "  'tweet_created': '2015-02-23 14:36:22 -0800',\n",
       "  'tweet_location': 'Indianapolis, Indiana; USA',\n",
       "  'user_timezone': 'Central Time (US & Canada)'},\n",
       " {'tweet_id': 568089179520954368,\n",
       "  'airline_sentiment': 'positive',\n",
       "  'airline': 'United',\n",
       "  'name': 'LocalKyle',\n",
       "  'text': '@united Flew ORD to Miami and back and  had great crew, service on both legs. THANKS',\n",
       "  'tweet_created': '2015-02-18 08:46:29 -0800',\n",
       "  'tweet_location': 'Illinois',\n",
       "  'user_timezone': 'Central Time (US & Canada)'},\n",
       " {'tweet_id': 568928195581513728,\n",
       "  'airline_sentiment': 'negative',\n",
       "  'airline': 'Southwest',\n",
       "  'name': 'amccarthy19',\n",
       "  'text': \"@SouthwestAir @dultch97 that's horse radish 😤🐴\",\n",
       "  'tweet_created': '2015-02-20 16:20:26 -0800',\n",
       "  'user_timezone': 'Atlantic Time (Canada)'},\n",
       " {'tweet_id': 568594180014014464,\n",
       "  'airline_sentiment': 'negative',\n",
       "  'airline': 'United',\n",
       "  'name': 'J_Okayy',\n",
       "  'text': '@united so our flight into ORD was delayed because of Air Force One, but the last flight to SBN is at 8:20, 5 mins from now we just landed.',\n",
       "  'tweet_created': '2015-02-19 18:13:11 -0800',\n",
       "  'user_timezone': 'Eastern Time (US & Canada)'},\n",
       " {'tweet_id': 569677636613439488,\n",
       "  'airline_sentiment': 'negative',\n",
       "  'airline': 'United',\n",
       "  'name': 'bobgiolito',\n",
       "  'text': '@united Why did you load us in this flying sardine can if you knew the pilots were 2 hours Late Flight?? #incompetent beyond belief',\n",
       "  'tweet_created': '2015-02-22 17:58:27 -0800',\n",
       "  'tweet_location': 'Los Angeles, CA',\n",
       "  'user_timezone': 'Pacific Time (US & Canada)'},\n",
       " {'tweet_id': 569658903044218880,\n",
       "  'airline_sentiment': 'negative',\n",
       "  'airline': 'Delta',\n",
       "  'name': 'aaronkinnari',\n",
       "  'text': \"@JetBlue that is a stock response. Delays not as frustrating as poor cust serv &amp; being told by 3 ppl to wait &amp; they'd come back but did not.\",\n",
       "  'tweet_created': '2015-02-22 16:44:00 -0800',\n",
       "  'tweet_location': 'Gotham',\n",
       "  'user_timezone': 'Quito'},\n",
       " {'tweet_id': 568542766860541952,\n",
       "  'airline_sentiment': 'positive',\n",
       "  'airline': 'Delta',\n",
       "  'name': 'TimothySays',\n",
       "  'text': \"@JetBlue That'd be nice! Hoping to rack up enough miles to take a trip to Seattle and enjoy a perfect latte in the city of coffee.\",\n",
       "  'tweet_created': '2015-02-19 14:48:53 -0800',\n",
       "  'tweet_location': 'Burlington, MA',\n",
       "  'user_timezone': 'Eastern Time (US & Canada)'},\n",
       " {'tweet_id': 570116209263427584,\n",
       "  'airline_sentiment': 'negative',\n",
       "  'airline': 'United',\n",
       "  'name': 'lindaSWC',\n",
       "  'retweet_count': 1,\n",
       "  'text': '@united frankly worse customer service ever. Problems will happen, how you deal defines a company. Never again United.',\n",
       "  'tweet_created': '2015-02-23 23:01:11 -0800'}]"
      ]
     },
     "execution_count": 13,
     "metadata": {},
     "output_type": "execute_result"
    }
   ],
   "source": [
    "arr = []\n",
    "for i in range(len(x)):\n",
    "    dic = {}\n",
    "    for j in x_new:\n",
    "        if x_new[j][i] != 0:\n",
    "            dic[j] = x_new[j][i]\n",
    "    arr.append(dic)\n",
    "arr[0:9]"
   ]
  },
  {
   "cell_type": "code",
   "execution_count": 14,
   "metadata": {},
   "outputs": [
    {
     "data": {
      "text/plain": [
       "numpy.int64"
      ]
     },
     "execution_count": 14,
     "metadata": {},
     "output_type": "execute_result"
    }
   ],
   "source": [
    "type(arr[0]['tweet_id'])"
   ]
  },
  {
   "cell_type": "code",
   "execution_count": 15,
   "metadata": {},
   "outputs": [
    {
     "data": {
      "text/plain": [
       "int"
      ]
     },
     "execution_count": 15,
     "metadata": {},
     "output_type": "execute_result"
    }
   ],
   "source": [
    "for i in range(len(arr)):\n",
    "    for j in arr[i]:\n",
    "        if type(arr[i][j]) == np.int64:\n",
    "            arr[i][j] = int(arr[i][j])\n",
    "    \n",
    "type(arr[0]['tweet_id'])"
   ]
  },
  {
   "cell_type": "code",
   "execution_count": 17,
   "metadata": {},
   "outputs": [],
   "source": [
    "result = Twitter.insert_many(arr)"
   ]
  },
  {
   "cell_type": "code",
   "execution_count": 22,
   "metadata": {},
   "outputs": [
    {
     "name": "stdout",
     "output_type": "stream",
     "text": [
      "Id of 1  object  :   5da74a1491b8b670ea122a56\n",
      "Id of 2  object  :   5da74a1491b8b670ea122a57\n",
      "Id of 3  object  :   5da74a1491b8b670ea122a58\n",
      "Id of 4  object  :   5da74a1491b8b670ea122a59\n",
      "Id of 5  object  :   5da74a1491b8b670ea122a5a\n",
      "Id of 6  object  :   5da74a1491b8b670ea122a5b\n",
      "Id of 7  object  :   5da74a1491b8b670ea122a5c\n",
      "Id of 8  object  :   5da74a1491b8b670ea122a5d\n",
      "Id of 9  object  :   5da74a1491b8b670ea122a5e\n",
      "Id of 10  object  :   5da74a1491b8b670ea122a5f\n",
      "Id of 11  object  :   5da74a1491b8b670ea122a60\n",
      "Id of 12  object  :   5da74a1491b8b670ea122a61\n",
      "Id of 13  object  :   5da74a1491b8b670ea122a62\n",
      "Id of 14  object  :   5da74a1491b8b670ea122a63\n",
      "Id of 15  object  :   5da74a1491b8b670ea122a64\n",
      "Id of 16  object  :   5da74a1491b8b670ea122a65\n",
      "Id of 17  object  :   5da74a1491b8b670ea122a66\n",
      "Id of 18  object  :   5da74a1491b8b670ea122a67\n",
      "Id of 19  object  :   5da74a1491b8b670ea122a68\n",
      "Id of 20  object  :   5da74a1491b8b670ea122a69\n",
      "Id of 21  object  :   5da74a1491b8b670ea122a6a\n",
      "Id of 22  object  :   5da74a1491b8b670ea122a6b\n",
      "Id of 23  object  :   5da74a1491b8b670ea122a6c\n",
      "Id of 24  object  :   5da74a1491b8b670ea122a6d\n",
      "Id of 25  object  :   5da74a1491b8b670ea122a6e\n",
      "Id of 26  object  :   5da74a1491b8b670ea122a6f\n",
      "Id of 27  object  :   5da74a1491b8b670ea122a70\n",
      "Id of 28  object  :   5da74a1491b8b670ea122a71\n",
      "Id of 29  object  :   5da74a1491b8b670ea122a72\n",
      "Id of 30  object  :   5da74a1491b8b670ea122a73\n"
     ]
    }
   ],
   "source": [
    "i = 1\n",
    "for object_id in result.inserted_ids:\n",
    "    print(\"Id of\",i,\" object  :  \", object_id)\n",
    "    i += 1"
   ]
  }
 ],
 "metadata": {
  "kernelspec": {
   "display_name": "Python 3",
   "language": "python",
   "name": "python3"
  },
  "language_info": {
   "codemirror_mode": {
    "name": "ipython",
    "version": 3
   },
   "file_extension": ".py",
   "mimetype": "text/x-python",
   "name": "python",
   "nbconvert_exporter": "python",
   "pygments_lexer": "ipython3",
   "version": "3.7.1"
  }
 },
 "nbformat": 4,
 "nbformat_minor": 2
}
